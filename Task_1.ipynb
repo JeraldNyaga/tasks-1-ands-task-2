{
  "nbformat": 4,
  "nbformat_minor": 0,
  "metadata": {
    "colab": {
      "provenance": []
    },
    "kernelspec": {
      "name": "python3",
      "display_name": "Python 3"
    },
    "language_info": {
      "name": "python"
    }
  },
  "cells": [
    {
      "cell_type": "code",
      "execution_count": null,
      "metadata": {
        "colab": {
          "base_uri": "https://localhost:8080/"
        },
        "id": "MHVtUkics85r",
        "outputId": "d656013a-f846-4586-d875-ba07b73728fc"
      },
      "outputs": [
        {
          "output_type": "stream",
          "name": "stdout",
          "text": [
            "'print('Hello, World!')' is not a comment\n",
            "'# Today is a holiday' is a comment\n",
            "'/* It's Tuesday again' is a comment\n",
            "'   so bored */' is not a comment\n",
            "'x = 5' is not a comment\n",
            "'// Watching a movie ' is a comment\n",
            "' ''' Play some music ''' ' is a comment\n",
            "'\"\"\" Goodbye\"\"\"' is a comment\n"
          ]
        }
      ],
      "source": [
        "def is_comment(line):\n",
        "    # Check if the line starts with common comment indicators\n",
        "    comment_indicators = [\"#\", \"//\", \"/*\", \"*/\", \"(*\", \"*)\"]\n",
        "\n",
        "    # Check for triple-quoted comments\n",
        "    if line.strip().startswith(\"'''\") or line.strip().startswith('\"\"\"'):\n",
        "        return True\n",
        "\n",
        "    for indicator in comment_indicators:\n",
        "        if line.strip().startswith(indicator):\n",
        "            return True\n",
        "    return False\n",
        "\n",
        "    for indicator in comment_indicators:\n",
        "        if line.strip().startswith(indicator):\n",
        "            return True\n",
        "    return False\n",
        "\n",
        "# Example of usage\n",
        "code_lines = [\n",
        "    \"print('Hello, World!')\",\n",
        "    \"# Today is a holiday\",\n",
        "    \"/* It's Tuesday again\",\n",
        "    \"   so bored */\",\n",
        "    \"x = 5\",\n",
        "    \"// Watching a movie \",\n",
        "    \" ''' Play some music ''' \",\n",
        "    '\"\"\" Goodbye\"\"\"'\n",
        "]\n",
        "\n",
        "for line in code_lines:\n",
        "    if is_comment(line):\n",
        "        print(f\"'{line}' is a comment\")\n",
        "    else:\n",
        "        print(f\"'{line}' is not a comment\")\n"
      ]
    },
    {
      "cell_type": "markdown",
      "source": [
        "# New Section\n",
        "**Logic Used**\n",
        "\n",
        "A list of common comment indicators is created. Then the function is_comment(line) is used to identify comments in a given line of code. Next. It iterates through comment_indicators and checks if the line starts with any of these indicators. If any condition is met, it returns True, indicating the line is a comment. Otherwise, it returns False.\n",
        "\n",
        "\n",
        "**Lexical analysis was important in the logic:**\n",
        "\n",
        "Lexical analysis is the process of breaking down a string of characters into tokens, such as keywords, identifiers, operators, and punctuation. Lexical analysis is important in this task because it allows us to identify the tokens in each line of code. For example, the is_comment() function uses the lexical analyzer to identify the forward slash or hash characters  that indicate the start of a comment.\n"
      ],
      "metadata": {
        "id": "y6kMFOoOv-1z"
      }
    },
    {
      "cell_type": "code",
      "source": [
        "import re\n",
        "\n",
        "\n",
        "def is_valid_identifier(identifier):\n",
        "  \"\"\"Returns True if the given identifier is valid, False otherwise.\"\"\"\n",
        "\n",
        "  # Check if the identifier is empty.\n",
        "  if not identifier:\n",
        "    return False\n",
        "\n",
        "  # Check if the identifier starts with a letter or underscore.\n",
        "  if not re.match(r\"^[a-zA-Z_]\", identifier):\n",
        "    return False\n",
        "\n",
        "  # Check if the identifier contains only letters, numbers, underscores, and dots.\n",
        "  if not re.match(r\"^[a-zA-Z0-9_.]+$\", identifier):\n",
        "    return False\n",
        "\n",
        "  return True\n",
        "\n",
        "\n",
        "if __name__ == \"__main__\":\n",
        "  identifiers = [\"my_variable\", \"123\", \"_underscore\", \"my.variable\"]\n",
        "\n",
        "  for identifier in identifiers:\n",
        "    if is_valid_identifier(identifier):\n",
        "      print(identifier, \"is a valid identifier.\")\n",
        "    else:\n",
        "      print(identifier, \"is not a valid identifier.\")"
      ],
      "metadata": {
        "colab": {
          "base_uri": "https://localhost:8080/"
        },
        "id": "X7_JALO3ueeM",
        "outputId": "5cdbeb77-5ff1-4720-fc8e-12653ce38da2"
      },
      "execution_count": null,
      "outputs": [
        {
          "output_type": "stream",
          "name": "stdout",
          "text": [
            "my_variable is a valid identifier.\n",
            "123 is not a valid identifier.\n",
            "_underscore is a valid identifier.\n",
            "my.variable is a valid identifier.\n"
          ]
        }
      ]
    },
    {
      "cell_type": "markdown",
      "source": [
        "Logic:\n",
        "\n",
        "The program uses the following logic to test whether an identifier is valid:\n",
        "\n",
        "    Check if the identifier is empty. If it is, then the identifier is not valid.\n",
        "    Check if the identifier starts with a letter or underscore. If it does not, then the identifier is not valid.\n",
        "    Check if the identifier contains only letters, numbers, underscores, and dots. If it does not, then the identifier is not valid.\n"
      ],
      "metadata": {
        "id": "WrUJl3nMwKS8"
      }
    }
  ]
}